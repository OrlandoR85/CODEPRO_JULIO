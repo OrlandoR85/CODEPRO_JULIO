{
 "cells": [
  {
   "cell_type": "markdown",
   "id": "f0a0d34c",
   "metadata": {},
   "source": [
    "Challenge 1 🤺 - 15m\n",
    "Crear una función que imprima la variable palabra."
   ]
  },
  {
   "cell_type": "code",
   "execution_count": 21,
   "id": "bdada03c",
   "metadata": {},
   "outputs": [
    {
     "name": "stdout",
     "output_type": "stream",
     "text": [
      "Palabra\n"
     ]
    }
   ],
   "source": [
    "def imprimir_palabra():\n",
    "\n",
    "    texto = \"Palabra\"\n",
    "    print(texto)\n",
    "    \n",
    "imprimir_palabra ()\n"
   ]
  },
  {
   "cell_type": "markdown",
   "id": "04083547",
   "metadata": {},
   "source": [
    "Challenge 2 🤺 - 20 min\n",
    "Crear una función que reciba dos letras (parámetros) y que verifique si son iguales:\n",
    "\n",
    "Si son iguales, imprimir \"Las letras son iguales\".\n",
    "\n",
    "De lo contrario, imprimir \"Las letras son diferentes\".\n",
    "OBS:\n",
    "1- Se decalara la funcion letras - def letras (letra1, letra2) :\n",
    "2- Se se realiza la comparacion de lo solicitado dentro de la variable letras - if letra1 == letra2:\n",
    "3- Se realiza la impresion en el caso de que la letra sea igual - print (\"Las letras son iguales\")\n",
    "4- Caso contrario se imprime el siguiente mensaje - print (\"Las letras son diferentes\")\n",
    "5- Se realiza llamado de la variable letras \"Donde esta cargado el pedido de los datos - letras(\"l\", \"l\")"
   ]
  },
  {
   "cell_type": "code",
   "execution_count": null,
   "id": "7d0e959e",
   "metadata": {},
   "outputs": [
    {
     "name": "stdout",
     "output_type": "stream",
     "text": [
      "Las letras son iguales\n"
     ]
    }
   ],
   "source": [
    "def letras (letra1, letra2) :\n",
    "   if letra1 == letra2:\n",
    "    print (\"Las letras son iguales\")\n",
    "   else:\n",
    "    print (\"Las letras son diferentes\")\n",
    "\n",
    "letras(\"l\", \"l\")"
   ]
  },
  {
   "cell_type": "markdown",
   "id": "2375c722",
   "metadata": {},
   "source": [
    "Challenge 3 🤺 - 20m\n",
    "Crear una función que reciba dos parámetros (una palabra y un número), y que retorne True si el número es igual a la cantidad de letras de la palabra. En caso contrario, que retorne False.\n",
    "\n",
    "Pista: cantidad de letras de una palabra en python\n",
    "OBS:\n",
    " ¿Qué queremos hacer?\n",
    "Crear una función que:\n",
    "\n",
    "Reciba una palabra (como \"hola\")\n",
    "\n",
    "Reciba un número (como 4)\n",
    "\n",
    "Y que devuelva True si el número coincide con la cantidad de letras de la palabra, o False si no.\n",
    "\n",
    "1. Definir la función - def comparar(palabra, numero):\n",
    "2. Contar las letras de la palabra utilizando la funcion len- len(palabra)\n",
    "3. Comparar si el número es igual a la cantidad de letras - len(palabra) == numero\n",
    "4. Retornar el resultado - return len(palabra) == numero\n",
    "5. Luego imprimir - print(comparar(\"python\", 6))     # True\n",
    "                    print(comparar(\"programar\", 9))  # True\n",
    "                    print(comparar(\"openai\", 5))     # False\n",
    "6. se termina con la variable comparar con los datos ingresados - comparar(\"Asuncion\", 5)\n",
    "\n"
   ]
  },
  {
   "cell_type": "code",
   "execution_count": 49,
   "id": "7019fb77",
   "metadata": {},
   "outputs": [
    {
     "name": "stdout",
     "output_type": "stream",
     "text": [
      "True\n",
      "True\n",
      "False\n"
     ]
    },
    {
     "data": {
      "text/plain": [
       "True"
      ]
     },
     "execution_count": 49,
     "metadata": {},
     "output_type": "execute_result"
    }
   ],
   "source": [
    "def comparar(palabra, numero):\n",
    "    return len(palabra) == numero\n",
    "print(comparar(\"python\", 6))     # True\n",
    "print(comparar(\"programar\", 9))  # True\n",
    "print(comparar(\"openai\", 5))     # False\n",
    "\n",
    "comparar(\"Codepro\", 7)\n",
    "\n",
    "\n",
    "\n",
    "\n",
    "\n"
   ]
  },
  {
   "cell_type": "markdown",
   "id": "bd84519b",
   "metadata": {},
   "source": [
    "Challenge 5 🤺 - 25m\n",
    "Pedir al usuario que ingrese 1 palabra, luego convertir esa palabra a una lista con sus caracteres con list(). Agregar esa lista de caracteres a una lista llamada palabras_ingresadas. Repetir el proceso 3 veces. Cada vez que se agregue una lista de caracteres, imprimir la lista palabras_ingresadas.\n",
    "\n",
    "\n",
    "Ejemplo del resultado esperado:\n",
    "\n",
    "[['c', 'i', 'e', 'l', 'o']]\n",
    " # Al ingresar la primera palabra\n",
    "\n",
    "[['c', 'i', 'e', 'l', 'o'], ['c', 'a', 'l', 'o', 'r']]\n",
    " # Al ingresar la segunda palabra\n",
    "\n",
    "[['c', 'i', 'e', 'l', 'o'], ['c', 'a', 'l', 'o', 'r'], ['n', 'u', 'b', 'e', 's']]\n",
    "OBS:\n",
    " Paso 1: Crear una lista vacía\n",
    "Antes de empezar a pedir palabras, necesitamos una lista donde guardar todas las palabras ingresadas (en forma de lista de letras) \n",
    "-palabras_ingresadas = [] (Esto crea una lista vacía. Vamos a ir agregando otras listas dentro de ella.)\n",
    "\n",
    " Paso 2: Repetir el proceso 3 veces\n",
    "Usamos un bucle for que se repita 3 veces \n",
    "- for i in range(3):(range(3) significa: 0, 1 y 2 → son 3 repeticiones.)\n",
    "\n",
    "Paso 3: Pedir una palabra\n",
    "Dentro del bucle, usamos input() para pedir al usuario que escriba algo \n",
    "-palabra = input(\"Ingresa una palabra: \") (Lo que el usuario escriba se guarda en la variable palabra.)\n",
    "\n",
    " Paso 4: Convertir esa palabra en una lista de letras\n",
    "Usamos la función list() para convertir, por ejemplo, \"hola\" → [\"h\", \"o\", \"l\", \"a\"] \n",
    "- lista_letras = list(palabra)\n",
    "\n",
    " Paso 5: Agregar esa lista a palabras_ingresadas\n",
    "Usamos .append() para agregar la lista nueva a nuestra lista principal \n",
    "- palabras_ingresadas.append(lista_letras) ( Ahora palabras_ingresadas contiene listas dentro de otra lista.)\n",
    "\n",
    "Paso 6: Imprimir el resultado parcial\n",
    "Después de agregar cada palabra, imprimimos lo que llevamos cargado \n",
    "- print(\"Lista actual de palabras ingresadas:\", palabras_ingresadas)\n",
    "\n",
    "\n",
    "\n",
    "\n",
    "\n"
   ]
  },
  {
   "cell_type": "code",
   "execution_count": 56,
   "id": "554b9018",
   "metadata": {},
   "outputs": [
    {
     "name": "stdout",
     "output_type": "stream",
     "text": [
      "Lista actual de palabras ingresadas: [['h', 'o', 'l', 'a']]\n",
      "Lista actual de palabras ingresadas: [['h', 'o', 'l', 'a'], ['c', 'a', 's', 'a']]\n",
      "Lista actual de palabras ingresadas: [['h', 'o', 'l', 'a'], ['c', 'a', 's', 'a'], ['p', 'e', 'l', 'o', 't', 'a']]\n"
     ]
    }
   ],
   "source": [
    "#Objetivo del ejercicio:\n",
    "#1. Pedir al usuario que escriba una palabra.\n",
    "#2. Convertir esa palabra en una lista de letras (caracteres).\n",
    "#3. Agregar esa lista dentro de otra lista llamada palabras_ingresadas.\n",
    "#4. Hacer todo eso 3 veces.\n",
    "#5. Imprimir el contenido de palabras_ingresadas cada vez que se agregue una nueva palabra.\n",
    "\n",
    "palabras_ingresadas = []\n",
    "\n",
    "for i in range(3):\n",
    "    palabra = input(\"Ingresa una palabra: \")\n",
    "    lista_letras = list(palabra)\n",
    "    palabras_ingresadas.append(lista_letras)\n",
    "    print(\"Lista actual de palabras ingresadas:\", palabras_ingresadas)\n",
    "\n",
    "\n"
   ]
  },
  {
   "cell_type": "markdown",
   "id": "2d9d50a7",
   "metadata": {},
   "source": [
    "Challenge 6 🤺 - 25m\n",
    "Dada la lista de ejemplo: \n",
    "\n",
    "lista = [['h', 'o', 'l', 'i', 's'], ['h', 'e', 'l', 'l', 'o'], ['h', 'a', 'l', 'l', 'o']]\n",
    "\n",
    "Crear una función que imprima una grilla (lista de listas), una línea por cada lista dentro de la lista principal.\n",
    "\n",
    "Ejemplo del resultado esperado:\n",
    "\n",
    "\n",
    "['h', 'o', 'l', 'i', 's']\n",
    "['h', 'e', 'l', 'l', 'o']\n",
    "['h', 'a', 'l', 'l', 'o']"
   ]
  },
  {
   "cell_type": "code",
   "execution_count": 61,
   "id": "012df009",
   "metadata": {},
   "outputs": [
    {
     "name": "stdout",
     "output_type": "stream",
     "text": [
      "['h', 'o', 'l', 'i', 's']\n",
      "['h', 'e', 'l', 'l', 'o']\n",
      "['h', 'a', 'l', 'l', 'o']\n"
     ]
    }
   ],
   "source": [
    "#Objetivo del ejercicio\n",
    "\n",
    "\n",
    "#1. Define la función que espera una lista de listas.\n",
    "    #def imprimir_grilla(lista):\n",
    "    \n",
    "#2. Recorre cada sublista dentro de la lista principal.\n",
    "    #for sublista in lista:\n",
    "\n",
    "#3. Imprime cada sublista en una línea diferente, como una fila de una grilla.\n",
    "    #print(sublista)\n",
    "\n",
    "\n",
    "def imprimir_grilla(lista):\n",
    "    for sublista in lista:\n",
    "        print(sublista)\n",
    "\n",
    "# Lista de ejemplo\n",
    "lista = [['h', 'o', 'l', 'i', 's'], ['h', 'e', 'l', 'l', 'o'], ['h', 'a', 'l', 'l', 'o']]\n",
    "\n",
    "# Llamar a la función\n",
    "imprimir_grilla(lista)\n",
    "\n"
   ]
  },
  {
   "cell_type": "markdown",
   "id": "7d6c03a7",
   "metadata": {},
   "source": [
    "Paso 1\n"
   ]
  },
  {
   "cell_type": "code",
   "execution_count": 63,
   "id": "045c2686",
   "metadata": {},
   "outputs": [
    {
     "name": "stdout",
     "output_type": "stream",
     "text": [
      "Letra incorrecta: G\n",
      "Letra incorrecta: A\n",
      "Letra incorrecta: T\n",
      "Letra incorrecta: O\n",
      "Letra incorrecta: S\n",
      "¡Adivinaste la palabra!\n"
     ]
    }
   ],
   "source": [
    "#Paso1: cargar 5 o mas letras para que el juego pueda elejir al azar\n",
    "palabras = [\"gatos\", \"perro\", \"plaza\", \"silla\", \"luzco\"]\n",
    "\n",
    "#Paso2: Elegir la palabra secreta\n",
    "#Vamos a usar el comando random para que el juego elija una palabra al azar\n",
    "import random\n",
    "secreta = random.choice(palabras)\n",
    "\n",
    "#Paso3: Pedirle al jugador que ingrese una Palabra\n",
    "palabra_usuario = input(\"Escribí una palabra de 5 letras: \")#Paso 6\n",
    "\n",
    "if len(palabra_usuario) != 5:\n",
    "    print(\"La palabra debe tener 5 letras.\")\n",
    "\n",
    "#Paso4: Hacer la comparacion de letras por letras para ir dando la pista\n",
    "for i in range(5):\n",
    "    if palabra_usuario[i] == secreta[i]:\n",
    "        print(\"Letra correcta y en la posición correcta:\", palabra_usuario[i])\n",
    "    elif palabra_usuario[i] in secreta:\n",
    "        print(\"Letra correcta pero en posición incorrecta:\", palabra_usuario[i])\n",
    "    else:\n",
    "        print(\"Letra incorrecta:\", palabra_usuario[i])\n",
    "\n",
    "#Paso5: Repetir todo hasta 6 veces (Comparando letra por letra como lo veniamos haciendo)\n",
    "for intento in range(6):\n",
    "    palabra_usuario = input(\"Intento {} - Ingresá una palabra: \".format(intento + 1)).lower()\n",
    "\n",
    "    if palabra_usuario == secreta:\n",
    "        print(\"¡Adivinaste la palabra!\")\n",
    "        break\n",
    "#Paso6: Si no adivina en 6 intentos mostrar mostrar la respuesta\n",
    "else:\n",
    "    print(\"No adivinaste. La palabra era:\", secreta)\n"
   ]
  }
 ],
 "metadata": {
  "kernelspec": {
   "display_name": ".venv",
   "language": "python",
   "name": "python3"
  },
  "language_info": {
   "codemirror_mode": {
    "name": "ipython",
    "version": 3
   },
   "file_extension": ".py",
   "mimetype": "text/x-python",
   "name": "python",
   "nbconvert_exporter": "python",
   "pygments_lexer": "ipython3",
   "version": "3.11.9"
  }
 },
 "nbformat": 4,
 "nbformat_minor": 5
}
