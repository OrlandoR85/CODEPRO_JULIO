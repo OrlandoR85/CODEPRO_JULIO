{
 "cells": [
  {
   "cell_type": "code",
   "execution_count": 2,
   "id": "8260dca6",
   "metadata": {},
   "outputs": [
    {
     "name": "stdout",
     "output_type": "stream",
     "text": [
      "Hola mu/grtrgtgtgtrndo\n"
     ]
    }
   ],
   "source": [
    "print(\"Hola mu/grtrgtgtgtrndo\")"
   ]
  },
  {
   "cell_type": "markdown",
   "id": "9890b3b8",
   "metadata": {},
   "source": [
    "Challenge 1\n",
    "Crea 3 variables con tu Nombre, Edad y Ciudad.. Imprimir en una sola linea usando print"
   ]
  },
  {
   "cell_type": "code",
   "execution_count": 8,
   "id": "a523aa7a",
   "metadata": {},
   "outputs": [
    {
     "name": "stdout",
     "output_type": "stream",
     "text": [
      "Orlando 39 Ñemby\n"
     ]
    }
   ],
   "source": [
    "nombre = \"Orlando\"\n",
    "edad = 39\n",
    "ciudad = \"Ñemby\"\n",
    "print (nombre, edad, ciudad)"
   ]
  },
  {
   "cell_type": "markdown",
   "id": "2d264dd2",
   "metadata": {},
   "source": [
    "Challenge 2 :\n",
    "Suma: asignar dos numeros en dos variables diferentes cantidad_de_manzana y cantidad_de_naranjas. Luego sumar ambas variables en cantidad_de_frutas. Imprimir la ultima variable\n",
    "Resta: Asignar un valor numerico a la variable frutas_vendidas. Luego asignar la resta entre cantidad_de_frutras y frutas_vendidas a la variable frutas_restantes, imprimir la ultima variable"
   ]
  },
  {
   "cell_type": "code",
   "execution_count": 28,
   "id": "43b9b94f",
   "metadata": {},
   "outputs": [
    {
     "name": "stdout",
     "output_type": "stream",
     "text": [
      "La cantidad de frutas totales es de 40\n",
      "Frutas restantes es de 20\n"
     ]
    }
   ],
   "source": [
    "cantidad_de_manzanas = 10\n",
    "cantidad_de_naranjas = 30\n",
    "frutas_vendidas = 20\n",
    "\n",
    "cantidad_de_frutas = (cantidad_de_manzanas + cantidad_de_naranjas)\n",
    "fruta_restantes = (cantidad_de_frutas - frutas_vendidas)\n",
    "\n",
    "print (\"La cantidad de frutas totales es de\", cantidad_de_frutas)\n",
    "print (\"Frutas restantes es de\", fruta_restantes)"
   ]
  },
  {
   "cell_type": "markdown",
   "id": "fb79edd7",
   "metadata": {},
   "source": [
    "Challeng 3:\n",
    "Asignar el nombre y el apellido de tu compañera/o a las variables nombre y apellido. Luego imprimir una frase, utilizando las variables EJEMPLO: \"Hola.gusto\" Me llamo Lidia Coronel. Mucho gusto\"\n",
    "OBS: PRINT CONCATENADO"
   ]
  },
  {
   "cell_type": "code",
   "execution_count": 43,
   "id": "1bfcc3b8",
   "metadata": {},
   "outputs": [
    {
     "name": "stdout",
     "output_type": "stream",
     "text": [
      "Hola. Me llamo Lidia Coronel. Mucho gusto\n"
     ]
    }
   ],
   "source": [
    "nombre = \"Lidia\"\n",
    "apellido = \"Coronel\"\n",
    "print (f\"Hola. Me llamo {nombre} {apellido}. Mucho gusto\")"
   ]
  },
  {
   "cell_type": "markdown",
   "id": "39be4c66",
   "metadata": {},
   "source": [
    "Challeng 4:\n",
    "Solicitar al usuario ingresar dos numeros y almacenarlos en dis variables. Luego la suma de dos numeros.\n",
    "OBS: SE UTILIZA LA FUNCION \"\"INT\"\" PARA CONVERTIR EN ENTEROS PUESTO QUE EL SISTEMA LANZA COMO TEXTO"
   ]
  },
  {
   "cell_type": "code",
   "execution_count": 56,
   "id": "cf4cc26c",
   "metadata": {},
   "outputs": [
    {
     "name": "stdout",
     "output_type": "stream",
     "text": [
      "La suma de los dos numeros es de 400\n"
     ]
    }
   ],
   "source": [
    "numero_1 = int (input (\"Ingrese primer numero\"))\n",
    "numero_2 = int (input (\"Ingrese segundo numero\"))\n",
    "suma_numero = (numero_1 + numero_2)\n",
    "print (\"La suma de los dos numeros es de\", suma_numero)"
   ]
  },
  {
   "cell_type": "markdown",
   "id": "fcaa0169",
   "metadata": {},
   "source": [
    "Challeng 5:\n",
    "Crear una funcion de un proceso que se les ocurra que tenga varios pasos.\n",
    "Ejecutar la funcion 3 veces.\n",
    "OBS: Utilizar la funcion \"\"DEF\"\" QUE SE UTILIZA PARA NO REPETIR LAS FUNCIONES"
   ]
  },
  {
   "cell_type": "code",
   "execution_count": 76,
   "id": "746eb8ec",
   "metadata": {},
   "outputs": [
    {
     "name": "stdout",
     "output_type": "stream",
     "text": [
      "Hola, su nombre es Orlando su edad es de 39 y es del Pais de Paraguay\n",
      "Hola, su nombre es Carlos su edad es de 28 y es del Pais de Argentina\n",
      "Hola, su nombre es Laura su edad es de 30 y es del Pais de Mexico\n"
     ]
    }
   ],
   "source": [
    "def saludo () :\n",
    "    nombre = input(\"Ingrese su nombre\")\n",
    "    edad = input(\"Ingrese su Edad\")\n",
    "    pais = input(\"Ingrese su Pais\")\n",
    "    print (f\"Hola, su nombre es {nombre} su edad es de {edad} y es del Pais de {pais}\")\n",
    "\n",
    "saludo ()\n",
    "saludo ()\n",
    "saludo ()\n",
    "\n",
    "\n"
   ]
  },
  {
   "cell_type": "markdown",
   "id": "ab2a1bd8",
   "metadata": {},
   "source": [
    "Challeng 6:\n",
    "Escribe una funcion que nos pregunte las caracteristicas de un elemento a comprar e imprimir el elemento con sus caracteriticas\n",
    "Primero: Funcion\n",
    "Segundo: Definir Variables\n",
    "Tercero: Realizar la impresion de las variables que se pide\n",
    "OBS: input se utiliza para que se imprima lo solicitado en la pantalla "
   ]
  },
  {
   "cell_type": "code",
   "execution_count": null,
   "id": "0f78ce65",
   "metadata": {},
   "outputs": [
    {
     "name": "stdout",
     "output_type": "stream",
     "text": [
      "Modelo de Auto Kia Año de fabricacion 2020 Color del Auto Rojo\n",
      "Modelo de Auto Picanto Año de fabricacion 2015 Color del Auto Azul\n",
      "Modelo de Auto Onix Año de fabricacion 2025 Color del Auto Negro\n"
     ]
    }
   ],
   "source": [
    "def compra_de_auto() :\n",
    "    modelo = (input (\"Ingrese modelo de Auto\"))\n",
    "    año = (input (\"Ingrese año del Vehiculo\"))\n",
    "    color = (input (\"Ingrese color del Vehiculo\"))\n",
    "    \n",
    "    print (f\"Modelo de Auto {modelo} Año de fabricacion {año} Color del Auto {color}\")\n",
    "compra_de_auto ()\n",
    "compra_de_auto ()\n",
    "compra_de_auto ()\n",
    "\n",
    "\n",
    "\n",
    "\n",
    "\n"
   ]
  }
 ],
 "metadata": {
  "kernelspec": {
   "display_name": ".venv",
   "language": "python",
   "name": "python3"
  },
  "language_info": {
   "codemirror_mode": {
    "name": "ipython",
    "version": 3
   },
   "file_extension": ".py",
   "mimetype": "text/x-python",
   "name": "python",
   "nbconvert_exporter": "python",
   "pygments_lexer": "ipython3",
   "version": "3.11.9"
  }
 },
 "nbformat": 4,
 "nbformat_minor": 5
}
