{
 "cells": [
  {
   "cell_type": "markdown",
   "id": "e2fb9a67",
   "metadata": {},
   "source": [
    "REPASO DIA 1\n",
    "- Variables: son los datos que necesitamos para programar,se nombra de forma descriptica en minusculas y no se usa espacio sino guion bajo\n",
    "- Tipos de Datos: - str (string) (Textos), int (integer)(Numeros enteros), bool (boolean)(True - False), float (floating)(Decimales)\n",
    "- Operadores Aritmeticos:\n",
    "                     -   +\n",
    "                     -   -\n",
    "                     -   *\n",
    "                     -   /\n",
    "                     -  //\n",
    "                     -   %\n",
    "- Concatenacion \n",
    "                     -   +\n",
    "                     -   f\n",
    "- Funciones\n",
    "                     -   def\n",
    "                     -   Parametro\n",
    "                     -   Argumentos: Informacion (Variables)\n",
    "- Variables \n",
    "                     -   Locales\n",
    "                     -   Globlaes"
   ]
  },
  {
   "cell_type": "code",
   "execution_count": 1,
   "id": "53ca8fe6",
   "metadata": {},
   "outputs": [
    {
     "name": "stdout",
     "output_type": "stream",
     "text": [
      "Verificar los datos\n",
      "Retirar el Vehiculo\n",
      "Cobrar costo del Servicio\n",
      "Entregar al dueño\n"
     ]
    }
   ],
   "source": [
    "def buscar_auto (marca, color, chapa, modelo) :\n",
    "    print (\"Verificar los datos\")\n",
    "    print (\"Retirar el Vehiculo\")\n",
    "    print (\"Cobrar costo del Servicio\")\n",
    "    print (\"Entregar al dueño\")\n",
    "\n",
    "marca_del_vehiculo_usuario = input(\"Ingresa la marca de tu vehiculo\")\n",
    "color_del_vehiculo_usuario = input(\"Ingresa la color de tu vehiculo\")\n",
    "chapa_del_vehiculo_usuario = input(\"Ingresa la chapa de tu vehiculo\")\n",
    "modelo_del_vehiculo_usuario = input(\"Ingresa la modelo de tu vehiculo\")\n",
    "\n",
    "buscar_auto (marca_del_vehiculo_usuario,color_del_vehiculo_usuario,chapa_del_vehiculo_usuario,modelo_del_vehiculo_usuario)\n"
   ]
  },
  {
   "cell_type": "markdown",
   "id": "dda81867",
   "metadata": {},
   "source": [
    "Challenge 1\n",
    "Escribe un programa qe pregunte al usuario por su edad y determine si tiene edad suficiente para comprar y consumir alcohol\n",
    "- Si el usuario tiene mas de 18 pero menos de 21 imprimir \"Podes tomar pero no comparar\"\n",
    "- Si el usuario tiene menos de 18 imprimir \"Juguito nomas\"\n",
    "- Si el ususario tiene mas de 21 imprimir \"Hace lo que quieras\""
   ]
  },
  {
   "cell_type": "code",
   "execution_count": 10,
   "id": "294939b3",
   "metadata": {},
   "outputs": [
    {
     "name": "stdout",
     "output_type": "stream",
     "text": [
      "Hace lo que quieras\n"
     ]
    }
   ],
   "source": [
    "edad = int(input(\"Ingrese su edad\"))\n",
    "if edad < 18:\n",
    "    print (\"Juguito nomas\")\n",
    "\n",
    "elif edad >= 21:\n",
    "    print (\"Hace lo que quieras\")\n",
    "\n",
    "else:\n",
    "    print (\"Podes tomar pero no comprar\")"
   ]
  },
  {
   "cell_type": "markdown",
   "id": "59b9239f",
   "metadata": {},
   "source": [
    "Challenge 2:\n",
    "Escribe un programa en el que se le pregute al usuario por una temperatura (en grados Celsius), imprima la temperatura escrita, y luego clasificar la temperatura\n",
    "- Entre -10 y 18 grados, que imprima \"Fresquete\"\n",
    "- Entre 19 y 30 grados. que imprima \"Calo'i\"\n",
    "- Entre 31 y 45 grados , que imprima \"Hakuuuuu\"\n",
    "- Para todo los demas . imprimir \"Ñamano mba'e\""
   ]
  },
  {
   "cell_type": "code",
   "execution_count": 5,
   "id": "a4eca0bf",
   "metadata": {},
   "outputs": [
    {
     "name": "stdout",
     "output_type": "stream",
     "text": [
      "Temperatura ingresada: 1°C\n",
      "Fresquete\n"
     ]
    }
   ],
   "source": [
    "temperatura = int(input(\"INGRESE TEMPERATURA EN GRADOS CELSIUS\"))\n",
    "print(f\"Temperatura ingresada: {temperatura}°C\")\n",
    "\n",
    "# Clasificar la temperatura\n",
    "if temperatura >= -10 and temperatura <= 18:\n",
    "    print(\"Fresquete\")\n",
    "\n",
    "elif temperatura >= 19 and temperatura <= 30:\n",
    "    print (\"Calor'i\")\n",
    "\n",
    "elif temperatura >= 31 and temperatura <= 45:\n",
    "    print(\"Hakuuuuu\")\n",
    "    \n",
    "else:\n",
    "    print(\"Ñamano mba'e\")"
   ]
  },
  {
   "cell_type": "code",
   "execution_count": 26,
   "id": "1be8f966",
   "metadata": {},
   "outputs": [
    {
     "name": "stdout",
     "output_type": "stream",
     "text": [
      "Temperatura ingresada: 25°C\n",
      "Calor'i\n"
     ]
    }
   ],
   "source": [
    "temperatura = int(input(\"INGRESE TEMPERATURA EN GRADOS CELSIUS\"))\n",
    "print(f\"Temperatura ingresada: {temperatura}°C\")\n",
    "\n",
    "# Clasificar la temperatura\n",
    "if -10 <= temperatura <= 18:\n",
    "    print(\"Fresquete\")\n",
    "elif 19 <= temperatura <= 30:\n",
    "    print(\"Calor'i\")\n",
    "elif 31 <= temperatura <= 45:\n",
    "    print(\"Hakuuuuu\")\n",
    "else:\n",
    "    print(\"Ñamano mba'e\")"
   ]
  },
  {
   "cell_type": "markdown",
   "id": "930b48c9",
   "metadata": {},
   "source": [
    "Challenge 3:\n",
    "Escribir un programa que almacene una contraseña en una variable, y pregunte al usuario por la contraseña hasta que introduzca la contraseña correcta.\n",
    "Cuando el usuario ingrese la contraseña correcta, imprimir un mensaje secreto\n",
    "OBS: \n",
    "1- En la variable se almacena la contraseña\n",
    "2- Luego dentro del bucle se realiza una variable ingreso que solicite la carga de la contraseña\n",
    "3- luego se realiza la consulta de la variable ingreso == contraseña_correcta\n",
    "4- realizo print \"Contraseña correcta con un mensaje secreto\"\n",
    "5- si la contraseña es incorrectra imprime \"Contraseña incorrecta. Intenta de nuevo\""
   ]
  },
  {
   "cell_type": "code",
   "execution_count": 11,
   "id": "48d83b65",
   "metadata": {},
   "outputs": [
    {
     "name": "stdout",
     "output_type": "stream",
     "text": [
      "Contraseña incorrecta. Intenta de nuevo.\n",
      "¡Contraseña correcta!\n",
      "Nunca dejes de aprender.\n"
     ]
    }
   ],
   "source": [
    "#Se guarda la contraseña en una variable\n",
    "contraseña_correcta = \"Orlando123\"\n",
    "\n",
    "# Creo bucle que me pida la contraseña hasta que sea correcta\n",
    "while True:\n",
    "    ingreso = input(\"Introduce la contraseña: \")\n",
    "    if ingreso == contraseña_correcta:\n",
    "        print(\"¡Contraseña correcta!\")\n",
    "        print(\"Nunca dejes de aprender.\")\n",
    "        break\n",
    "    else:\n",
    "        print(\"Contraseña incorrecta. Intenta de nuevo.\")"
   ]
  },
  {
   "cell_type": "markdown",
   "id": "2cada1cf",
   "metadata": {},
   "source": [
    "Challeng 4:\n",
    "Crear una lista de 5 elementos. Luego, seguir los siguientes pasos.\n",
    "- Agregar un elementi al final e la lista\n",
    "- Modificar el segundo elemento\n",
    "- Eliminar el tercer elemento\n",
    "OBS:\n",
    "1- Secrea el listado de los 5 elementos\n",
    "2- Se agrega una indicacion para que se agrege un nuevo elemento - lista.append(\"sandia\") que se utiliza para agregar un nuevo elemento sin tener que modificar los primero 5 elementos\n",
    "3- Para modificar un elemento en este caso el 2do se utiliza una condicion en este caso seria la lista \"lista{1} porque seria 1 porque se modifica por indice\n",
    "4- Para eliminar un elemento en este caso el 3ro se utiliza una condicion en este caso seria la condicion \"del lista{2}\" porque seria 2 porque se elimina por indice\n",
    "5- Se realiza la impresion de la lista final de como quedaria al realizar todas las indicaciones"
   ]
  },
  {
   "cell_type": "code",
   "execution_count": 17,
   "id": "7a7aca59",
   "metadata": {},
   "outputs": [
    {
     "name": "stdout",
     "output_type": "stream",
     "text": [
      "['manzana', 'banana', 'naranja', 'pera', 'uva', 'sandia']\n",
      "['kiwi', 'banana', 'naranja', 'pera', 'uva', 'sandia']\n",
      "['kiwi', 'banana', 'naranja', 'uva', 'sandia']\n",
      "['kiwi', 'banana', 'naranja', 'uva', 'sandia']\n"
     ]
    }
   ],
   "source": [
    "# Lista de 5 elementos\n",
    "lista = [\"manzana\", \"banana\", \"naranja\", \"pera\", \"uva\"]\n",
    "\n",
    "# Agregar un elemento al final de la lista\n",
    "lista.append(\"sandia\")\n",
    "print (lista)\n",
    "\n",
    "# Modificar el segundo elemento\n",
    "lista[0] = \"kiwi\"\n",
    "print (lista)\n",
    "\n",
    "# Eliminar el tercer elemento\n",
    "del lista[3]\n",
    "print (lista)\n",
    "\n",
    "# Imprimir la lista final\n",
    "print(lista)"
   ]
  },
  {
   "cell_type": "markdown",
   "id": "c4e759cc",
   "metadata": {},
   "source": [
    "Challenge 5:\n",
    "Escribir un programa que otere en un rango de 10 veces. Por cada iteracion multiplicar el iterador por dos e imprimir el resultado\n",
    "OBS:\n",
    "1- Utilizo la funcion for i in range(10): ya que pide que iteremos hasta 10 veces\n",
    "2- utilizar crear una variable resultado la funcion i * 2 - resultado = i * 2\n",
    "3- Imprimir  print(f\"{i} x 2={resultado}\")"
   ]
  },
  {
   "cell_type": "code",
   "execution_count": 25,
   "id": "b70d5925",
   "metadata": {},
   "outputs": [
    {
     "name": "stdout",
     "output_type": "stream",
     "text": [
      "0 x 2=0\n",
      "1 x 2=2\n",
      "2 x 2=4\n",
      "3 x 2=6\n",
      "4 x 2=8\n",
      "5 x 2=10\n",
      "6 x 2=12\n",
      "7 x 2=14\n",
      "8 x 2=16\n",
      "9 x 2=18\n"
     ]
    }
   ],
   "source": [
    "# Iterar en un rango de 10 veces\n",
    "for i in range(10):\n",
    "    resultado = i * 2\n",
    "    print(f\"{i} x 2={resultado}\")"
   ]
  },
  {
   "cell_type": "markdown",
   "id": "40add07d",
   "metadata": {},
   "source": [
    "Challenge 6:\n",
    "Recorrer los elementos de una lista de marcas e imprimir cada marca solamente si tiene 6 letras o mas.\n",
    "OBS:\n",
    "1- Se crea una variable con losdatos que estare comparando - marcas_de_autos = [\"Toyota\", \"Peugeot\", \"KIA\", \"Chevrolet\", \"JAC\", \"HYUNDAI\"]\n",
    "2- Utilizo la funcion for con la iteracion que seria marca y lo comparo con la cariable marcas_de_autos - for marca in marcas_de_autos:\n",
    "3- Luego utilizo la funcion if con el cual utilizo la funcion len \"que utilizo para contar las letras, seguido de mi iteracion al cual le consulto si mi iteracion marca >= 6 que representa 6 letras de cada elemento - if len(marca) >= 6:\n",
    "4- Imprimo la iteracion "
   ]
  },
  {
   "cell_type": "code",
   "execution_count": 32,
   "id": "4bf6d452",
   "metadata": {},
   "outputs": [
    {
     "name": "stdout",
     "output_type": "stream",
     "text": [
      "Toyota\n",
      "Peugeot\n",
      "Chevrolet\n",
      "HYUNDAI\n"
     ]
    }
   ],
   "source": [
    "marcas_de_autos = [\"Toyota\", \"Peugeot\", \"KIA\", \"Chevrolet\", \"JAC\", \"HYUNDAI\"]\n",
    "\n",
    "for marca in marcas_de_autos:\n",
    "    if len(marca) >= 6:\n",
    "        print(marca)"
   ]
  },
  {
   "cell_type": "markdown",
   "id": "40172e78",
   "metadata": {},
   "source": [
    "Challenge 7:\n",
    "Solictar al usuario que ingrese una frase.\n",
    "Imprimir un mensaje cada vez que se encuentre una letra \"o\"\n",
    "OBS:\n",
    "1- Se realiza una variable en el cual solicitaremos que ingrese una frase - frase = input(\"Ingrese una frase: \")\n",
    "2- Utilizamos la funcion for en el cual utilizamos la iteracion con nombre letra que se compara en la variable frase - for letra in frase:\n",
    "3- Luego se busca en la iteracion con el comando == que significa que sea identico a \"o\" -  if letra == \"o\":\n",
    "4- Si se cumple que se encontro una letra \"o\" imprimir la frase Se encontró una 'o' - print(\"Se encontró una 'o'\")"
   ]
  },
  {
   "cell_type": "code",
   "execution_count": 38,
   "id": "e1034bc0",
   "metadata": {},
   "outputs": [
    {
     "name": "stdout",
     "output_type": "stream",
     "text": [
      "Se encontró una 'o'\n",
      "Se encontró una 'o'\n"
     ]
    }
   ],
   "source": [
    "frase = input(\"Ingrese una frase: \")\n",
    "\n",
    "for letra in frase:\n",
    "    if letra == \"o\" or letra == \"O\":\n",
    "        print(\"Se encontró una 'o'\")\n"
   ]
  }
 ],
 "metadata": {
  "kernelspec": {
   "display_name": ".venv",
   "language": "python",
   "name": "python3"
  },
  "language_info": {
   "codemirror_mode": {
    "name": "ipython",
    "version": 3
   },
   "file_extension": ".py",
   "mimetype": "text/x-python",
   "name": "python",
   "nbconvert_exporter": "python",
   "pygments_lexer": "ipython3",
   "version": "3.11.9"
  }
 },
 "nbformat": 4,
 "nbformat_minor": 5
}
